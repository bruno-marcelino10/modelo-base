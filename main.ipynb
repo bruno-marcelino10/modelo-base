{
 "cells": [
  {
   "cell_type": "markdown",
   "metadata": {},
   "source": [
    "# Bibliotecas"
   ]
  },
  {
   "cell_type": "code",
   "execution_count": 1,
   "metadata": {},
   "outputs": [],
   "source": [
    "import pandas as pd\n",
    "import numpy as np\n",
    "\n",
    "from modelo import Modelo"
   ]
  },
  {
   "cell_type": "markdown",
   "metadata": {},
   "source": [
    "# Dados"
   ]
  },
  {
   "cell_type": "code",
   "execution_count": 6,
   "metadata": {},
   "outputs": [],
   "source": [
    "dados = pd.read_csv(\"titanic.csv\")\n",
    "#dados.drop([\"Name\", \"PassengerId\",\"Ticket\", \"Cabin\"], axis=1, inplace=True)\n",
    "dados.drop([\"Name\", \"PassengerId\",\"Ticket\", \"Cabin\", \"Sex\", \"Embarked\"], axis=1, inplace=True)\n",
    "\n",
    "train_data = dados.drop(\"Survived\", axis=1)\n",
    "test_data = dados[\"Survived\"]"
   ]
  },
  {
   "cell_type": "markdown",
   "metadata": {},
   "source": [
    "# Pré-processamento"
   ]
  },
  {
   "cell_type": "code",
   "execution_count": null,
   "metadata": {},
   "outputs": [],
   "source": []
  },
  {
   "cell_type": "markdown",
   "metadata": {},
   "source": [
    "# Modelagem"
   ]
  },
  {
   "cell_type": "code",
   "execution_count": null,
   "metadata": {},
   "outputs": [],
   "source": [
    "from modelo import Modelo\n",
    "from sklearn.ensemble import RandomForestClassifier\n",
    "from sklearn.model_selection import train_test_split, GridSearchCV\n",
    "\n",
    "params = {\n",
    "  \"preprocess?\": False, \n",
    "  \"shuffle?\": True,\n",
    "  \"train_size\": 0.7,\n",
    "  \"n_folds\": 2,\n",
    "  \"cv_scoring\": \"roc_auc\",\n",
    "  \"model_params\": {\n",
    "    'criterion': [\"gini\", 'entropy'],\n",
    "    'min_samples_leaf': [1, 3, 5],\n",
    "    'min_samples_split': [2, 4]\n",
    "    #'max_depth': [1, 5, None], # Retirar\n",
    "    #'n_estimators': [25, 50, 100], # Retirar\n",
    "  }\n",
    "}\n",
    "\n",
    "modelo = Modelo(\n",
    "  RandomForestClassifier(), \n",
    "  train=train_data,\n",
    "  test=test_data,\n",
    "  **params=**model_params\n",
    "  )"
   ]
  },
  {
   "cell_type": "code",
   "execution_count": 7,
   "metadata": {},
   "outputs": [],
   "source": [
    "from sklearn.ensemble import RandomForestClassifier\n",
    "from sklearn.model_selection import train_test_split, GridSearchCV\n",
    "from sklearn.metrics import precision_score, roc_auc_score, accuracy_score\n",
    "\n",
    "X_train, X_test, y_train, y_test = train_test_split(\n",
    "  train_data, test_data,\n",
    "  random_state=42, \n",
    "  shuffle=True,\n",
    "  train_size=0.7\n",
    ")\n",
    "\n",
    "initial_model = RandomForestClassifier(random_state=42)\n",
    "params = {\n",
    "  'criterion': [\"gini\", 'entropy'],\n",
    "  'min_samples_leaf': [1, 3, 5],\n",
    "  'min_samples_split': [2, 4]\n",
    "  #'max_depth': [1, 5, None], # Retirar\n",
    "  #'n_estimators': [25, 50, 100], # Retirar\n",
    "}\n",
    "\n",
    "fitted_model = GridSearchCV(\n",
    "  initial_model,\n",
    "  params,\n",
    "  n_jobs=-1, \n",
    "  cv=2, \n",
    "  scoring=\"roc_auc\"\n",
    "  )\n",
    "\n",
    "fitted_model.fit(X_train, y_train) \n",
    "\n",
    "predicted_values = fitted_model.predict(X_test)\n",
    "\n",
    "results = {\n",
    "  \"precision\": precision_score(y_test, predicted_values, zero_division=1),\n",
    "  \"accuracy\": accuracy_score(y_test, predicted_values),\n",
    "  \"auc\": roc_auc_score(y_test, predicted_values),\n",
    "}"
   ]
  },
  {
   "cell_type": "code",
   "execution_count": 8,
   "metadata": {},
   "outputs": [
    {
     "data": {
      "text/plain": [
       "{'precision': 0.7247706422018348,\n",
       " 'accuracy': 0.7455470737913485,\n",
       " 'auc': 0.703625261304874}"
      ]
     },
     "execution_count": 8,
     "metadata": {},
     "output_type": "execute_result"
    }
   ],
   "source": []
  }
 ],
 "metadata": {
  "kernelspec": {
   "display_name": "Python 3",
   "language": "python",
   "name": "python3"
  },
  "language_info": {
   "codemirror_mode": {
    "name": "ipython",
    "version": 3
   },
   "file_extension": ".py",
   "mimetype": "text/x-python",
   "name": "python",
   "nbconvert_exporter": "python",
   "pygments_lexer": "ipython3",
   "version": "3.10.12"
  }
 },
 "nbformat": 4,
 "nbformat_minor": 2
}
