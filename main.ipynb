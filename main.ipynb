{
 "cells": [
  {
   "cell_type": "markdown",
   "metadata": {},
   "source": [
    "# Bibliotecas"
   ]
  },
  {
   "cell_type": "code",
   "execution_count": 2,
   "metadata": {},
   "outputs": [],
   "source": [
    "import pandas as pd\n",
    "import numpy as np\n",
    "\n",
    "from model import Modelo"
   ]
  },
  {
   "cell_type": "markdown",
   "metadata": {},
   "source": [
    "# Dados"
   ]
  },
  {
   "cell_type": "code",
   "execution_count": 7,
   "metadata": {},
   "outputs": [],
   "source": [
    "dados = pd.read_csv(\"titanic.csv\")\n",
    "dados.drop([\"Name\", \"PassengerId\",\"Ticket\", \"Cabin\"], axis=1, inplace=True)\n",
    "\n",
    "train_data = dados.drop(\"Survived\", axis=1)\n",
    "test_data = dados[\"Survived\"]"
   ]
  },
  {
   "cell_type": "markdown",
   "metadata": {},
   "source": [
    "# Modelagem"
   ]
  },
  {
   "cell_type": "code",
   "execution_count": null,
   "metadata": {},
   "outputs": [],
   "source": [
    "from model import Modelo\n",
    "from sklearn.ensemble import RandomForestClassifier\n",
    "\n",
    "params = {\n",
    "  \"preprocess?\": False, \n",
    "  \"shuffle?\": True,\n",
    "  \"train_size\": 0.7,\n",
    "  \"n_folds\": 2,\n",
    "  \"cv_scoring\": \"roc_auc\",\n",
    "  \"model_params\": {\n",
    "    'criterion': [\"gini\", 'entropy'],\n",
    "    'min_samples_leaf': [1, 3, 5],\n",
    "    'min_samples_split': [2, 4]\n",
    "    #'max_depth': [1, 5, None], # Retirar\n",
    "    #'n_estimators': [25, 50, 100], # Retirar\n",
    "  }\n",
    "}\n",
    "\n",
    "modelo = Modelo(\n",
    "  RandomForestClassifier(), \n",
    "  train=train_data,\n",
    "  test=test_data,\n",
    "  **params=**model_params\n",
    "  )"
   ]
  },
  {
   "cell_type": "code",
   "execution_count": null,
   "metadata": {},
   "outputs": [],
   "source": []
  }
 ],
 "metadata": {
  "kernelspec": {
   "display_name": "Python 3",
   "language": "python",
   "name": "python3"
  },
  "language_info": {
   "codemirror_mode": {
    "name": "ipython",
    "version": 3
   },
   "file_extension": ".py",
   "mimetype": "text/x-python",
   "name": "python",
   "nbconvert_exporter": "python",
   "pygments_lexer": "ipython3",
   "version": "3.10.12"
  }
 },
 "nbformat": 4,
 "nbformat_minor": 2
}
